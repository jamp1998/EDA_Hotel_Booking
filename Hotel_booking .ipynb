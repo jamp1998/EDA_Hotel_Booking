{
 "cells": [
  {
   "cell_type": "code",
   "execution_count": 1,
   "id": "a87aa16e",
   "metadata": {},
   "outputs": [],
   "source": [
    "#importig libraries \n",
    "import pandas as pd \n",
    "import numpy as np\n",
    "import matplotlib.pyplot as plt \n",
    "import seaborn as sns"
   ]
  },
  {
   "cell_type": "code",
   "execution_count": 2,
   "id": "ac2ea1ff",
   "metadata": {},
   "outputs": [],
   "source": [
    "df = pd.read_csv('C:\\data_analysis\\data_envs\\hotel_booking_demand\\hotel_bookings.csv')"
   ]
  },
  {
   "cell_type": "code",
   "execution_count": 3,
   "id": "f31d01bc",
   "metadata": {
    "tags": []
   },
   "outputs": [
    {
     "data": {
      "text/html": [
       "<div>\n",
       "<style scoped>\n",
       "    .dataframe tbody tr th:only-of-type {\n",
       "        vertical-align: middle;\n",
       "    }\n",
       "\n",
       "    .dataframe tbody tr th {\n",
       "        vertical-align: top;\n",
       "    }\n",
       "\n",
       "    .dataframe thead th {\n",
       "        text-align: right;\n",
       "    }\n",
       "</style>\n",
       "<table border=\"1\" class=\"dataframe\">\n",
       "  <thead>\n",
       "    <tr style=\"text-align: right;\">\n",
       "      <th></th>\n",
       "      <th>hotel</th>\n",
       "      <th>is_canceled</th>\n",
       "      <th>lead_time</th>\n",
       "      <th>arrival_date_year</th>\n",
       "      <th>arrival_date_month</th>\n",
       "      <th>arrival_date_week_number</th>\n",
       "      <th>arrival_date_day_of_month</th>\n",
       "      <th>stays_in_weekend_nights</th>\n",
       "      <th>stays_in_week_nights</th>\n",
       "      <th>adults</th>\n",
       "      <th>...</th>\n",
       "      <th>deposit_type</th>\n",
       "      <th>agent</th>\n",
       "      <th>company</th>\n",
       "      <th>days_in_waiting_list</th>\n",
       "      <th>customer_type</th>\n",
       "      <th>adr</th>\n",
       "      <th>required_car_parking_spaces</th>\n",
       "      <th>total_of_special_requests</th>\n",
       "      <th>reservation_status</th>\n",
       "      <th>reservation_status_date</th>\n",
       "    </tr>\n",
       "  </thead>\n",
       "  <tbody>\n",
       "    <tr>\n",
       "      <th>0</th>\n",
       "      <td>Resort Hotel</td>\n",
       "      <td>0</td>\n",
       "      <td>342</td>\n",
       "      <td>2015</td>\n",
       "      <td>July</td>\n",
       "      <td>27</td>\n",
       "      <td>1</td>\n",
       "      <td>0</td>\n",
       "      <td>0</td>\n",
       "      <td>2</td>\n",
       "      <td>...</td>\n",
       "      <td>No Deposit</td>\n",
       "      <td>NaN</td>\n",
       "      <td>NaN</td>\n",
       "      <td>0</td>\n",
       "      <td>Transient</td>\n",
       "      <td>0.0</td>\n",
       "      <td>0</td>\n",
       "      <td>0</td>\n",
       "      <td>Check-Out</td>\n",
       "      <td>2015-07-01</td>\n",
       "    </tr>\n",
       "    <tr>\n",
       "      <th>1</th>\n",
       "      <td>Resort Hotel</td>\n",
       "      <td>0</td>\n",
       "      <td>737</td>\n",
       "      <td>2015</td>\n",
       "      <td>July</td>\n",
       "      <td>27</td>\n",
       "      <td>1</td>\n",
       "      <td>0</td>\n",
       "      <td>0</td>\n",
       "      <td>2</td>\n",
       "      <td>...</td>\n",
       "      <td>No Deposit</td>\n",
       "      <td>NaN</td>\n",
       "      <td>NaN</td>\n",
       "      <td>0</td>\n",
       "      <td>Transient</td>\n",
       "      <td>0.0</td>\n",
       "      <td>0</td>\n",
       "      <td>0</td>\n",
       "      <td>Check-Out</td>\n",
       "      <td>2015-07-01</td>\n",
       "    </tr>\n",
       "    <tr>\n",
       "      <th>2</th>\n",
       "      <td>Resort Hotel</td>\n",
       "      <td>0</td>\n",
       "      <td>7</td>\n",
       "      <td>2015</td>\n",
       "      <td>July</td>\n",
       "      <td>27</td>\n",
       "      <td>1</td>\n",
       "      <td>0</td>\n",
       "      <td>1</td>\n",
       "      <td>1</td>\n",
       "      <td>...</td>\n",
       "      <td>No Deposit</td>\n",
       "      <td>NaN</td>\n",
       "      <td>NaN</td>\n",
       "      <td>0</td>\n",
       "      <td>Transient</td>\n",
       "      <td>75.0</td>\n",
       "      <td>0</td>\n",
       "      <td>0</td>\n",
       "      <td>Check-Out</td>\n",
       "      <td>2015-07-02</td>\n",
       "    </tr>\n",
       "    <tr>\n",
       "      <th>3</th>\n",
       "      <td>Resort Hotel</td>\n",
       "      <td>0</td>\n",
       "      <td>13</td>\n",
       "      <td>2015</td>\n",
       "      <td>July</td>\n",
       "      <td>27</td>\n",
       "      <td>1</td>\n",
       "      <td>0</td>\n",
       "      <td>1</td>\n",
       "      <td>1</td>\n",
       "      <td>...</td>\n",
       "      <td>No Deposit</td>\n",
       "      <td>304.0</td>\n",
       "      <td>NaN</td>\n",
       "      <td>0</td>\n",
       "      <td>Transient</td>\n",
       "      <td>75.0</td>\n",
       "      <td>0</td>\n",
       "      <td>0</td>\n",
       "      <td>Check-Out</td>\n",
       "      <td>2015-07-02</td>\n",
       "    </tr>\n",
       "    <tr>\n",
       "      <th>4</th>\n",
       "      <td>Resort Hotel</td>\n",
       "      <td>0</td>\n",
       "      <td>14</td>\n",
       "      <td>2015</td>\n",
       "      <td>July</td>\n",
       "      <td>27</td>\n",
       "      <td>1</td>\n",
       "      <td>0</td>\n",
       "      <td>2</td>\n",
       "      <td>2</td>\n",
       "      <td>...</td>\n",
       "      <td>No Deposit</td>\n",
       "      <td>240.0</td>\n",
       "      <td>NaN</td>\n",
       "      <td>0</td>\n",
       "      <td>Transient</td>\n",
       "      <td>98.0</td>\n",
       "      <td>0</td>\n",
       "      <td>1</td>\n",
       "      <td>Check-Out</td>\n",
       "      <td>2015-07-03</td>\n",
       "    </tr>\n",
       "  </tbody>\n",
       "</table>\n",
       "<p>5 rows × 32 columns</p>\n",
       "</div>"
      ],
      "text/plain": [
       "          hotel  is_canceled  lead_time  arrival_date_year arrival_date_month  \\\n",
       "0  Resort Hotel            0        342               2015               July   \n",
       "1  Resort Hotel            0        737               2015               July   \n",
       "2  Resort Hotel            0          7               2015               July   \n",
       "3  Resort Hotel            0         13               2015               July   \n",
       "4  Resort Hotel            0         14               2015               July   \n",
       "\n",
       "   arrival_date_week_number  arrival_date_day_of_month  \\\n",
       "0                        27                          1   \n",
       "1                        27                          1   \n",
       "2                        27                          1   \n",
       "3                        27                          1   \n",
       "4                        27                          1   \n",
       "\n",
       "   stays_in_weekend_nights  stays_in_week_nights  adults  ...  deposit_type  \\\n",
       "0                        0                     0       2  ...    No Deposit   \n",
       "1                        0                     0       2  ...    No Deposit   \n",
       "2                        0                     1       1  ...    No Deposit   \n",
       "3                        0                     1       1  ...    No Deposit   \n",
       "4                        0                     2       2  ...    No Deposit   \n",
       "\n",
       "   agent company days_in_waiting_list customer_type   adr  \\\n",
       "0    NaN     NaN                    0     Transient   0.0   \n",
       "1    NaN     NaN                    0     Transient   0.0   \n",
       "2    NaN     NaN                    0     Transient  75.0   \n",
       "3  304.0     NaN                    0     Transient  75.0   \n",
       "4  240.0     NaN                    0     Transient  98.0   \n",
       "\n",
       "   required_car_parking_spaces  total_of_special_requests  reservation_status  \\\n",
       "0                            0                          0           Check-Out   \n",
       "1                            0                          0           Check-Out   \n",
       "2                            0                          0           Check-Out   \n",
       "3                            0                          0           Check-Out   \n",
       "4                            0                          1           Check-Out   \n",
       "\n",
       "  reservation_status_date  \n",
       "0              2015-07-01  \n",
       "1              2015-07-01  \n",
       "2              2015-07-02  \n",
       "3              2015-07-02  \n",
       "4              2015-07-03  \n",
       "\n",
       "[5 rows x 32 columns]"
      ]
     },
     "execution_count": 3,
     "metadata": {},
     "output_type": "execute_result"
    }
   ],
   "source": [
    "df.head()"
   ]
  },
  {
   "cell_type": "code",
   "execution_count": 4,
   "id": "aff53b31",
   "metadata": {
    "collapsed": true,
    "jupyter": {
     "outputs_hidden": true
    },
    "tags": []
   },
   "outputs": [
    {
     "name": "stdout",
     "output_type": "stream",
     "text": [
      "<class 'pandas.core.frame.DataFrame'>\n",
      "RangeIndex: 119390 entries, 0 to 119389\n",
      "Data columns (total 32 columns):\n",
      " #   Column                          Non-Null Count   Dtype  \n",
      "---  ------                          --------------   -----  \n",
      " 0   hotel                           119390 non-null  object \n",
      " 1   is_canceled                     119390 non-null  int64  \n",
      " 2   lead_time                       119390 non-null  int64  \n",
      " 3   arrival_date_year               119390 non-null  int64  \n",
      " 4   arrival_date_month              119390 non-null  object \n",
      " 5   arrival_date_week_number        119390 non-null  int64  \n",
      " 6   arrival_date_day_of_month       119390 non-null  int64  \n",
      " 7   stays_in_weekend_nights         119390 non-null  int64  \n",
      " 8   stays_in_week_nights            119390 non-null  int64  \n",
      " 9   adults                          119390 non-null  int64  \n",
      " 10  children                        119386 non-null  float64\n",
      " 11  babies                          119390 non-null  int64  \n",
      " 12  meal                            119390 non-null  object \n",
      " 13  country                         118902 non-null  object \n",
      " 14  market_segment                  119390 non-null  object \n",
      " 15  distribution_channel            119390 non-null  object \n",
      " 16  is_repeated_guest               119390 non-null  int64  \n",
      " 17  previous_cancellations          119390 non-null  int64  \n",
      " 18  previous_bookings_not_canceled  119390 non-null  int64  \n",
      " 19  reserved_room_type              119390 non-null  object \n",
      " 20  assigned_room_type              119390 non-null  object \n",
      " 21  booking_changes                 119390 non-null  int64  \n",
      " 22  deposit_type                    119390 non-null  object \n",
      " 23  agent                           103050 non-null  float64\n",
      " 24  company                         6797 non-null    float64\n",
      " 25  days_in_waiting_list            119390 non-null  int64  \n",
      " 26  customer_type                   119390 non-null  object \n",
      " 27  adr                             119390 non-null  float64\n",
      " 28  required_car_parking_spaces     119390 non-null  int64  \n",
      " 29  total_of_special_requests       119390 non-null  int64  \n",
      " 30  reservation_status              119390 non-null  object \n",
      " 31  reservation_status_date         119390 non-null  object \n",
      "dtypes: float64(4), int64(16), object(12)\n",
      "memory usage: 29.1+ MB\n"
     ]
    }
   ],
   "source": [
    "df.info()"
   ]
  },
  {
   "cell_type": "code",
   "execution_count": 5,
   "id": "cf046843",
   "metadata": {},
   "outputs": [
    {
     "data": {
      "text/plain": [
       "(119390, 32)"
      ]
     },
     "execution_count": 5,
     "metadata": {},
     "output_type": "execute_result"
    }
   ],
   "source": [
    "df.shape"
   ]
  },
  {
   "cell_type": "code",
   "execution_count": 6,
   "id": "cfbc1ab6",
   "metadata": {},
   "outputs": [
    {
     "data": {
      "text/plain": [
       "RangeIndex(start=0, stop=119390, step=1)"
      ]
     },
     "execution_count": 6,
     "metadata": {},
     "output_type": "execute_result"
    }
   ],
   "source": [
    "df.index"
   ]
  },
  {
   "cell_type": "code",
   "execution_count": 7,
   "id": "4418e7b1",
   "metadata": {
    "collapsed": true,
    "jupyter": {
     "outputs_hidden": true
    },
    "tags": []
   },
   "outputs": [
    {
     "data": {
      "text/plain": [
       "Index(['hotel', 'is_canceled', 'lead_time', 'arrival_date_year',\n",
       "       'arrival_date_month', 'arrival_date_week_number',\n",
       "       'arrival_date_day_of_month', 'stays_in_weekend_nights',\n",
       "       'stays_in_week_nights', 'adults', 'children', 'babies', 'meal',\n",
       "       'country', 'market_segment', 'distribution_channel',\n",
       "       'is_repeated_guest', 'previous_cancellations',\n",
       "       'previous_bookings_not_canceled', 'reserved_room_type',\n",
       "       'assigned_room_type', 'booking_changes', 'deposit_type', 'agent',\n",
       "       'company', 'days_in_waiting_list', 'customer_type', 'adr',\n",
       "       'required_car_parking_spaces', 'total_of_special_requests',\n",
       "       'reservation_status', 'reservation_status_date'],\n",
       "      dtype='object')"
      ]
     },
     "execution_count": 7,
     "metadata": {},
     "output_type": "execute_result"
    }
   ],
   "source": [
    "df.columns"
   ]
  },
  {
   "cell_type": "code",
   "execution_count": 8,
   "id": "03e858f5",
   "metadata": {},
   "outputs": [],
   "source": [
    "df.drop(['meal', 'market_segment', 'distribution_channel',\n",
    "       'previous_bookings_not_canceled', 'reserved_room_type',\n",
    "       'assigned_room_type', 'booking_changes', 'deposit_type', 'agent',\n",
    "       'company', 'days_in_waiting_list', 'customer_type', 'adr',\n",
    "       'required_car_parking_spaces', 'total_of_special_requests'],axis=1, inplace=True)"
   ]
  },
  {
   "cell_type": "code",
   "execution_count": 9,
   "id": "137c12de",
   "metadata": {
    "collapsed": true,
    "jupyter": {
     "outputs_hidden": true
    },
    "tags": []
   },
   "outputs": [
    {
     "data": {
      "text/plain": [
       "Index(['hotel', 'is_canceled', 'lead_time', 'arrival_date_year',\n",
       "       'arrival_date_month', 'arrival_date_week_number',\n",
       "       'arrival_date_day_of_month', 'stays_in_weekend_nights',\n",
       "       'stays_in_week_nights', 'adults', 'children', 'babies', 'country',\n",
       "       'is_repeated_guest', 'previous_cancellations', 'reservation_status',\n",
       "       'reservation_status_date'],\n",
       "      dtype='object')"
      ]
     },
     "execution_count": 9,
     "metadata": {},
     "output_type": "execute_result"
    }
   ],
   "source": [
    "df.columns"
   ]
  },
  {
   "cell_type": "code",
   "execution_count": 10,
   "id": "6c116281",
   "metadata": {
    "collapsed": true,
    "jupyter": {
     "outputs_hidden": true
    },
    "tags": []
   },
   "outputs": [
    {
     "data": {
      "text/plain": [
       "Index(['hotel', 'is_canceled', 'lead_time', 'arrival_date_year',\n",
       "       'arrival_date_month', 'arrival_date_week_number',\n",
       "       'arrival_date_day_of_month', 'stays_in_weekend_nights',\n",
       "       'stays_in_week_nights', 'adults', 'children', 'babies', 'country',\n",
       "       'is_repeated_guest', 'previous_cancellations', 'reservation_status',\n",
       "       'reservation_status_date'],\n",
       "      dtype='object')"
      ]
     },
     "execution_count": 10,
     "metadata": {},
     "output_type": "execute_result"
    }
   ],
   "source": [
    "df.columns"
   ]
  },
  {
   "cell_type": "code",
   "execution_count": 11,
   "id": "4e6d7026",
   "metadata": {
    "tags": []
   },
   "outputs": [
    {
     "data": {
      "text/plain": [
       "hotel                          0\n",
       "is_canceled                    0\n",
       "lead_time                      0\n",
       "arrival_date_year              0\n",
       "arrival_date_month             0\n",
       "arrival_date_week_number       0\n",
       "arrival_date_day_of_month      0\n",
       "stays_in_weekend_nights        0\n",
       "stays_in_week_nights           0\n",
       "adults                         0\n",
       "children                       4\n",
       "babies                         0\n",
       "country                      488\n",
       "is_repeated_guest              0\n",
       "previous_cancellations         0\n",
       "reservation_status             0\n",
       "reservation_status_date        0\n",
       "dtype: int64"
      ]
     },
     "execution_count": 11,
     "metadata": {},
     "output_type": "execute_result"
    }
   ],
   "source": [
    "df.isnull().sum()"
   ]
  },
  {
   "cell_type": "code",
   "execution_count": 12,
   "id": "557698d3",
   "metadata": {
    "tags": []
   },
   "outputs": [
    {
     "data": {
      "text/plain": [
       "City Hotel      79330\n",
       "Resort Hotel    40060\n",
       "Name: hotel, dtype: int64"
      ]
     },
     "execution_count": 12,
     "metadata": {},
     "output_type": "execute_result"
    }
   ],
   "source": [
    "df['hotel'].value_counts()"
   ]
  },
  {
   "cell_type": "code",
   "execution_count": 13,
   "id": "d413e754",
   "metadata": {},
   "outputs": [
    {
     "data": {
      "text/plain": [
       "119390"
      ]
     },
     "execution_count": 13,
     "metadata": {},
     "output_type": "execute_result"
    }
   ],
   "source": [
    "df['hotel'].value_counts().sum()"
   ]
  },
  {
   "cell_type": "code",
   "execution_count": 14,
   "id": "0e0747b0",
   "metadata": {},
   "outputs": [],
   "source": [
    "data = df['hotel'].value_counts()\n",
    "keys = ['City', 'Resort']"
   ]
  },
  {
   "cell_type": "code",
   "execution_count": 15,
   "id": "58e84f6a",
   "metadata": {},
   "outputs": [],
   "source": [
    "palette_color = sns.color_palette('bright')"
   ]
  },
  {
   "cell_type": "code",
   "execution_count": 16,
   "id": "01ca969c",
   "metadata": {
    "tags": []
   },
   "outputs": [
    {
     "data": {
      "text/plain": [
       "([<matplotlib.patches.Wedge at 0x1dd86c17e20>,\n",
       "  <matplotlib.patches.Wedge at 0x1dd86c2a460>],\n",
       " [Text(-0.5433858480011854, 0.956416133381298, 'City'),\n",
       "  Text(0.5433858480011848, -0.9564161333812983, 'Resort')],\n",
       " [Text(-0.2963922807279193, 0.5216815272988897, '66%'),\n",
       "  Text(0.29639228072791896, -0.52168152729889, '34%')])"
      ]
     },
     "execution_count": 16,
     "metadata": {},
     "output_type": "execute_result"
    },
    {
     "data": {
      "image/png": "[encoded data removed]",
      "text/plain": [
       "<Figure size 432x288 with 1 Axes>"
      ]
     },
     "metadata": {},
     "output_type": "display_data"
    }
   ],
   "source": [
    "plt.pie(data, labels=keys, colors=palette_color, autopct='%.0f%%')"
   ]
  },
  {
   "cell_type": "code",
   "execution_count": 17,
   "id": "421fec5b",
   "metadata": {},
   "outputs": [],
   "source": [
    "canceled = df[['hotel', 'is_canceled']]"
   ]
  },
  {
   "cell_type": "code",
   "execution_count": 18,
   "id": "f54a0713",
   "metadata": {
    "tags": []
   },
   "outputs": [
    {
     "data": {
      "text/plain": [
       "hotel         is_canceled\n",
       "City Hotel    0              46228\n",
       "              1              33102\n",
       "Resort Hotel  0              28938\n",
       "              1              11122\n",
       "dtype: int64"
      ]
     },
     "execution_count": 18,
     "metadata": {},
     "output_type": "execute_result"
    }
   ],
   "source": [
    "canceled.value_counts()"
   ]
  },
  {
   "cell_type": "code",
   "execution_count": 19,
   "id": "f8445599",
   "metadata": {},
   "outputs": [],
   "source": [
    "canceled_count= canceled.groupby(by=['hotel']).sum()"
   ]
  },
  {
   "cell_type": "code",
   "execution_count": 20,
   "id": "64ccce34",
   "metadata": {
    "tags": []
   },
   "outputs": [
    {
     "data": {
      "text/html": [
       "<div>\n",
       "<style scoped>\n",
       "    .dataframe tbody tr th:only-of-type {\n",
       "        vertical-align: middle;\n",
       "    }\n",
       "\n",
       "    .dataframe tbody tr th {\n",
       "        vertical-align: top;\n",
       "    }\n",
       "\n",
       "    .dataframe thead th {\n",
       "        text-align: right;\n",
       "    }\n",
       "</style>\n",
       "<table border=\"1\" class=\"dataframe\">\n",
       "  <thead>\n",
       "    <tr style=\"text-align: right;\">\n",
       "      <th></th>\n",
       "      <th>is_canceled</th>\n",
       "    </tr>\n",
       "    <tr>\n",
       "      <th>hotel</th>\n",
       "      <th></th>\n",
       "    </tr>\n",
       "  </thead>\n",
       "  <tbody>\n",
       "    <tr>\n",
       "      <th>City Hotel</th>\n",
       "      <td>33102</td>\n",
       "    </tr>\n",
       "    <tr>\n",
       "      <th>Resort Hotel</th>\n",
       "      <td>11122</td>\n",
       "    </tr>\n",
       "  </tbody>\n",
       "</table>\n",
       "</div>"
      ],
      "text/plain": [
       "              is_canceled\n",
       "hotel                    \n",
       "City Hotel          33102\n",
       "Resort Hotel        11122"
      ]
     },
     "execution_count": 20,
     "metadata": {},
     "output_type": "execute_result"
    }
   ],
   "source": [
    "canceled_count"
   ]
  },
  {
   "cell_type": "code",
   "execution_count": 21,
   "id": "662b9273",
   "metadata": {
    "tags": []
   },
   "outputs": [
    {
     "data": {
      "text/plain": [
       "<AxesSubplot:xlabel='hotel', ylabel='is_canceled'>"
      ]
     },
     "execution_count": 21,
     "metadata": {},
     "output_type": "execute_result"
    },
    {
     "data": {
      "image/png": "[encoded data removed]",
      "text/plain": [
       "<Figure size 504x360 with 1 Axes>"
      ]
     },
     "metadata": {
      "needs_background": "light"
     },
     "output_type": "display_data"
    }
   ],
   "source": [
    "f, ax = plt.subplots(figsize= (7, 5))\n",
    "sns.despine(f)\n",
    "sns.barplot(x='hotel', y='is_canceled', data=df, palette='magma')"
   ]
  },
  {
   "cell_type": "code",
   "execution_count": null,
   "id": "ddd959c1-6b50-4fcd-8da7-03f0fabb5a31",
   "metadata": {},
   "outputs": [],
   "source": []
  },
  {
   "cell_type": "code",
   "execution_count": 22,
   "id": "bcb10b3e",
   "metadata": {},
   "outputs": [],
   "source": [
    "best_years = df[['hotel', 'arrival_date_year', 'is_canceled']]"
   ]
  },
  {
   "cell_type": "code",
   "execution_count": 23,
   "id": "8e35fce2",
   "metadata": {},
   "outputs": [],
   "source": [
    "best_years = best_years[best_years['is_canceled']==0]"
   ]
  },
  {
   "cell_type": "code",
   "execution_count": 24,
   "id": "77fddf3e",
   "metadata": {},
   "outputs": [],
   "source": [
    "result=best_years.groupby(by=['hotel','arrival_date_year']).agg(max_cancel=('is_canceled','count'))\n",
    "result= result.reset_index()"
   ]
  },
  {
   "cell_type": "code",
   "execution_count": 25,
   "id": "1626a5a0",
   "metadata": {
    "tags": []
   },
   "outputs": [
    {
     "data": {
      "text/plain": [
       "<AxesSubplot:xlabel='hotel', ylabel='max_cancel'>"
      ]
     },
     "execution_count": 25,
     "metadata": {},
     "output_type": "execute_result"
    },
    {
     "data": {
      "image/png": "[encoded data removed]",
      "text/plain": [
       "<Figure size 432x288 with 1 Axes>"
      ]
     },
     "metadata": {
      "needs_background": "light"
     },
     "output_type": "display_data"
    }
   ],
   "source": [
    "sns.barplot(x='hotel',\n",
    "            y='max_cancel',\n",
    "           hue='arrival_date_year',\n",
    "           data=result)"
   ]
  },
  {
   "cell_type": "code",
   "execution_count": 26,
   "id": "49aee906",
   "metadata": {},
   "outputs": [],
   "source": [
    "best_month = df[['hotel', 'arrival_date_month', 'is_canceled', 'arrival_date_year']]"
   ]
  },
  {
   "cell_type": "code",
   "execution_count": 27,
   "id": "a3eb7972",
   "metadata": {},
   "outputs": [],
   "source": [
    "best_month = best_month[best_month['is_canceled']==0]"
   ]
  },
  {
   "cell_type": "code",
   "execution_count": 28,
   "id": "f6e4ceca",
   "metadata": {
    "collapsed": true,
    "jupyter": {
     "outputs_hidden": true
    },
    "tags": []
   },
   "outputs": [
    {
     "data": {
      "text/plain": [
       "hotel         arrival_date_month  is_canceled  arrival_date_year\n",
       "City Hotel    May                 0            2017                 2339\n",
       "              September           0            2016                 2304\n",
       "              October             0            2016                 2272\n",
       "              May                 0            2016                 2240\n",
       "              July                0            2017                 2235\n",
       "              June                0            2016                 2203\n",
       "                                               2017                 2163\n",
       "              March               0            2017                 2134\n",
       "              August              0            2016                 2131\n",
       "              July                0            2016                 2088\n",
       "              October             0            2015                 2065\n",
       "              April               0            2016                 2022\n",
       "              August              0            2017                 2002\n",
       "              April               0            2017                 1993\n",
       "              September           0            2015                 1986\n",
       "              March               0            2016                 1938\n",
       "              November            0            2016                 1762\n",
       "              February            0            2017                 1623\n",
       "                                               2016                 1441\n",
       "Resort Hotel  October             0            2016                 1417\n",
       "              March               0            2016                 1409\n",
       "City Hotel    December            0            2016                 1406\n",
       "Resort Hotel  April               0            2016                 1345\n",
       "City Hotel    January             0            2017                 1328\n",
       "Resort Hotel  May                 0            2016                 1323\n",
       "City Hotel    August              0            2015                 1248\n",
       "Resort Hotel  May                 0            2017                 1212\n",
       "              April               0            2017                 1205\n",
       "              February            0            2017                 1195\n",
       "              March               0            2017                 1164\n",
       "              October             0            2015                 1160\n",
       "              February            0            2016                 1113\n",
       "              August              0            2016                 1107\n",
       "                                               2017                 1107\n",
       "              January             0            2017                 1103\n",
       "              July                0            2017                 1094\n",
       "              September           0            2016                 1068\n",
       "              July                0            2015                 1058\n",
       "              December            0            2016                 1056\n",
       "              November            0            2016                 1056\n",
       "              June                0            2017                 1045\n",
       "              August              0            2015                 1043\n",
       "              September           0            2015                 1034\n",
       "              June                0            2016                  993\n",
       "City Hotel    December            0            2015                  986\n",
       "Resort Hotel  July                0            2016                  985\n",
       "              December            0            2015                  961\n",
       "City Hotel    November            0            2015                  934\n",
       "              January             0            2016                  926\n",
       "Resort Hotel  November            0            2015                  920\n",
       "              January             0            2016                  765\n",
       "City Hotel    July                0            2015                  459\n",
       "dtype: int64"
      ]
     },
     "execution_count": 28,
     "metadata": {},
     "output_type": "execute_result"
    }
   ],
   "source": [
    "best_month.value_counts()"
   ]
  },
  {
   "cell_type": "code",
   "execution_count": 29,
   "id": "a72c91ab",
   "metadata": {
    "collapsed": true,
    "jupyter": {
     "outputs_hidden": true
    },
    "tags": []
   },
   "outputs": [
    {
     "data": {
      "text/html": [
       "<div>\n",
       "<style scoped>\n",
       "    .dataframe tbody tr th:only-of-type {\n",
       "        vertical-align: middle;\n",
       "    }\n",
       "\n",
       "    .dataframe tbody tr th {\n",
       "        vertical-align: top;\n",
       "    }\n",
       "\n",
       "    .dataframe thead th {\n",
       "        text-align: right;\n",
       "    }\n",
       "</style>\n",
       "<table border=\"1\" class=\"dataframe\">\n",
       "  <thead>\n",
       "    <tr style=\"text-align: right;\">\n",
       "      <th></th>\n",
       "      <th></th>\n",
       "      <th></th>\n",
       "      <th>month_cancel</th>\n",
       "    </tr>\n",
       "    <tr>\n",
       "      <th>hotel</th>\n",
       "      <th>arrival_date_month</th>\n",
       "      <th>arrival_date_year</th>\n",
       "      <th></th>\n",
       "    </tr>\n",
       "  </thead>\n",
       "  <tbody>\n",
       "    <tr>\n",
       "      <th rowspan=\"19\" valign=\"top\">City Hotel</th>\n",
       "      <th>May</th>\n",
       "      <th>2017</th>\n",
       "      <td>2339</td>\n",
       "    </tr>\n",
       "    <tr>\n",
       "      <th>September</th>\n",
       "      <th>2016</th>\n",
       "      <td>2304</td>\n",
       "    </tr>\n",
       "    <tr>\n",
       "      <th>October</th>\n",
       "      <th>2016</th>\n",
       "      <td>2272</td>\n",
       "    </tr>\n",
       "    <tr>\n",
       "      <th>May</th>\n",
       "      <th>2016</th>\n",
       "      <td>2240</td>\n",
       "    </tr>\n",
       "    <tr>\n",
       "      <th>July</th>\n",
       "      <th>2017</th>\n",
       "      <td>2235</td>\n",
       "    </tr>\n",
       "    <tr>\n",
       "      <th rowspan=\"2\" valign=\"top\">June</th>\n",
       "      <th>2016</th>\n",
       "      <td>2203</td>\n",
       "    </tr>\n",
       "    <tr>\n",
       "      <th>2017</th>\n",
       "      <td>2163</td>\n",
       "    </tr>\n",
       "    <tr>\n",
       "      <th>March</th>\n",
       "      <th>2017</th>\n",
       "      <td>2134</td>\n",
       "    </tr>\n",
       "    <tr>\n",
       "      <th>August</th>\n",
       "      <th>2016</th>\n",
       "      <td>2131</td>\n",
       "    </tr>\n",
       "    <tr>\n",
       "      <th>July</th>\n",
       "      <th>2016</th>\n",
       "      <td>2088</td>\n",
       "    </tr>\n",
       "    <tr>\n",
       "      <th>October</th>\n",
       "      <th>2015</th>\n",
       "      <td>2065</td>\n",
       "    </tr>\n",
       "    <tr>\n",
       "      <th>April</th>\n",
       "      <th>2016</th>\n",
       "      <td>2022</td>\n",
       "    </tr>\n",
       "    <tr>\n",
       "      <th>August</th>\n",
       "      <th>2017</th>\n",
       "      <td>2002</td>\n",
       "    </tr>\n",
       "    <tr>\n",
       "      <th>April</th>\n",
       "      <th>2017</th>\n",
       "      <td>1993</td>\n",
       "    </tr>\n",
       "    <tr>\n",
       "      <th>September</th>\n",
       "      <th>2015</th>\n",
       "      <td>1986</td>\n",
       "    </tr>\n",
       "    <tr>\n",
       "      <th>March</th>\n",
       "      <th>2016</th>\n",
       "      <td>1938</td>\n",
       "    </tr>\n",
       "    <tr>\n",
       "      <th>November</th>\n",
       "      <th>2016</th>\n",
       "      <td>1762</td>\n",
       "    </tr>\n",
       "    <tr>\n",
       "      <th rowspan=\"2\" valign=\"top\">February</th>\n",
       "      <th>2017</th>\n",
       "      <td>1623</td>\n",
       "    </tr>\n",
       "    <tr>\n",
       "      <th>2016</th>\n",
       "      <td>1441</td>\n",
       "    </tr>\n",
       "    <tr>\n",
       "      <th rowspan=\"2\" valign=\"top\">Resort Hotel</th>\n",
       "      <th>October</th>\n",
       "      <th>2016</th>\n",
       "      <td>1417</td>\n",
       "    </tr>\n",
       "    <tr>\n",
       "      <th>March</th>\n",
       "      <th>2016</th>\n",
       "      <td>1409</td>\n",
       "    </tr>\n",
       "    <tr>\n",
       "      <th>City Hotel</th>\n",
       "      <th>December</th>\n",
       "      <th>2016</th>\n",
       "      <td>1406</td>\n",
       "    </tr>\n",
       "    <tr>\n",
       "      <th>Resort Hotel</th>\n",
       "      <th>April</th>\n",
       "      <th>2016</th>\n",
       "      <td>1345</td>\n",
       "    </tr>\n",
       "    <tr>\n",
       "      <th>City Hotel</th>\n",
       "      <th>January</th>\n",
       "      <th>2017</th>\n",
       "      <td>1328</td>\n",
       "    </tr>\n",
       "    <tr>\n",
       "      <th>Resort Hotel</th>\n",
       "      <th>May</th>\n",
       "      <th>2016</th>\n",
       "      <td>1323</td>\n",
       "    </tr>\n",
       "    <tr>\n",
       "      <th>City Hotel</th>\n",
       "      <th>August</th>\n",
       "      <th>2015</th>\n",
       "      <td>1248</td>\n",
       "    </tr>\n",
       "    <tr>\n",
       "      <th rowspan=\"18\" valign=\"top\">Resort Hotel</th>\n",
       "      <th>May</th>\n",
       "      <th>2017</th>\n",
       "      <td>1212</td>\n",
       "    </tr>\n",
       "    <tr>\n",
       "      <th>April</th>\n",
       "      <th>2017</th>\n",
       "      <td>1205</td>\n",
       "    </tr>\n",
       "    <tr>\n",
       "      <th>February</th>\n",
       "      <th>2017</th>\n",
       "      <td>1195</td>\n",
       "    </tr>\n",
       "    <tr>\n",
       "      <th>March</th>\n",
       "      <th>2017</th>\n",
       "      <td>1164</td>\n",
       "    </tr>\n",
       "    <tr>\n",
       "      <th>October</th>\n",
       "      <th>2015</th>\n",
       "      <td>1160</td>\n",
       "    </tr>\n",
       "    <tr>\n",
       "      <th>February</th>\n",
       "      <th>2016</th>\n",
       "      <td>1113</td>\n",
       "    </tr>\n",
       "    <tr>\n",
       "      <th rowspan=\"2\" valign=\"top\">August</th>\n",
       "      <th>2016</th>\n",
       "      <td>1107</td>\n",
       "    </tr>\n",
       "    <tr>\n",
       "      <th>2017</th>\n",
       "      <td>1107</td>\n",
       "    </tr>\n",
       "    <tr>\n",
       "      <th>January</th>\n",
       "      <th>2017</th>\n",
       "      <td>1103</td>\n",
       "    </tr>\n",
       "    <tr>\n",
       "      <th>July</th>\n",
       "      <th>2017</th>\n",
       "      <td>1094</td>\n",
       "    </tr>\n",
       "    <tr>\n",
       "      <th>September</th>\n",
       "      <th>2016</th>\n",
       "      <td>1068</td>\n",
       "    </tr>\n",
       "    <tr>\n",
       "      <th>July</th>\n",
       "      <th>2015</th>\n",
       "      <td>1058</td>\n",
       "    </tr>\n",
       "    <tr>\n",
       "      <th>December</th>\n",
       "      <th>2016</th>\n",
       "      <td>1056</td>\n",
       "    </tr>\n",
       "    <tr>\n",
       "      <th>November</th>\n",
       "      <th>2016</th>\n",
       "      <td>1056</td>\n",
       "    </tr>\n",
       "    <tr>\n",
       "      <th>June</th>\n",
       "      <th>2017</th>\n",
       "      <td>1045</td>\n",
       "    </tr>\n",
       "    <tr>\n",
       "      <th>August</th>\n",
       "      <th>2015</th>\n",
       "      <td>1043</td>\n",
       "    </tr>\n",
       "    <tr>\n",
       "      <th>September</th>\n",
       "      <th>2015</th>\n",
       "      <td>1034</td>\n",
       "    </tr>\n",
       "    <tr>\n",
       "      <th>June</th>\n",
       "      <th>2016</th>\n",
       "      <td>993</td>\n",
       "    </tr>\n",
       "    <tr>\n",
       "      <th>City Hotel</th>\n",
       "      <th>December</th>\n",
       "      <th>2015</th>\n",
       "      <td>986</td>\n",
       "    </tr>\n",
       "    <tr>\n",
       "      <th rowspan=\"2\" valign=\"top\">Resort Hotel</th>\n",
       "      <th>July</th>\n",
       "      <th>2016</th>\n",
       "      <td>985</td>\n",
       "    </tr>\n",
       "    <tr>\n",
       "      <th>December</th>\n",
       "      <th>2015</th>\n",
       "      <td>961</td>\n",
       "    </tr>\n",
       "    <tr>\n",
       "      <th rowspan=\"2\" valign=\"top\">City Hotel</th>\n",
       "      <th>November</th>\n",
       "      <th>2015</th>\n",
       "      <td>934</td>\n",
       "    </tr>\n",
       "    <tr>\n",
       "      <th>January</th>\n",
       "      <th>2016</th>\n",
       "      <td>926</td>\n",
       "    </tr>\n",
       "    <tr>\n",
       "      <th rowspan=\"2\" valign=\"top\">Resort Hotel</th>\n",
       "      <th>November</th>\n",
       "      <th>2015</th>\n",
       "      <td>920</td>\n",
       "    </tr>\n",
       "    <tr>\n",
       "      <th>January</th>\n",
       "      <th>2016</th>\n",
       "      <td>765</td>\n",
       "    </tr>\n",
       "    <tr>\n",
       "      <th>City Hotel</th>\n",
       "      <th>July</th>\n",
       "      <th>2015</th>\n",
       "      <td>459</td>\n",
       "    </tr>\n",
       "  </tbody>\n",
       "</table>\n",
       "</div>"
      ],
      "text/plain": [
       "                                                   month_cancel\n",
       "hotel        arrival_date_month arrival_date_year              \n",
       "City Hotel   May                2017                       2339\n",
       "             September          2016                       2304\n",
       "             October            2016                       2272\n",
       "             May                2016                       2240\n",
       "             July               2017                       2235\n",
       "             June               2016                       2203\n",
       "                                2017                       2163\n",
       "             March              2017                       2134\n",
       "             August             2016                       2131\n",
       "             July               2016                       2088\n",
       "             October            2015                       2065\n",
       "             April              2016                       2022\n",
       "             August             2017                       2002\n",
       "             April              2017                       1993\n",
       "             September          2015                       1986\n",
       "             March              2016                       1938\n",
       "             November           2016                       1762\n",
       "             February           2017                       1623\n",
       "                                2016                       1441\n",
       "Resort Hotel October            2016                       1417\n",
       "             March              2016                       1409\n",
       "City Hotel   December           2016                       1406\n",
       "Resort Hotel April              2016                       1345\n",
       "City Hotel   January            2017                       1328\n",
       "Resort Hotel May                2016                       1323\n",
       "City Hotel   August             2015                       1248\n",
       "Resort Hotel May                2017                       1212\n",
       "             April              2017                       1205\n",
       "             February           2017                       1195\n",
       "             March              2017                       1164\n",
       "             October            2015                       1160\n",
       "             February           2016                       1113\n",
       "             August             2016                       1107\n",
       "                                2017                       1107\n",
       "             January            2017                       1103\n",
       "             July               2017                       1094\n",
       "             September          2016                       1068\n",
       "             July               2015                       1058\n",
       "             December           2016                       1056\n",
       "             November           2016                       1056\n",
       "             June               2017                       1045\n",
       "             August             2015                       1043\n",
       "             September          2015                       1034\n",
       "             June               2016                        993\n",
       "City Hotel   December           2015                        986\n",
       "Resort Hotel July               2016                        985\n",
       "             December           2015                        961\n",
       "City Hotel   November           2015                        934\n",
       "             January            2016                        926\n",
       "Resort Hotel November           2015                        920\n",
       "             January            2016                        765\n",
       "City Hotel   July               2015                        459"
      ]
     },
     "execution_count": 29,
     "metadata": {},
     "output_type": "execute_result"
    }
   ],
   "source": [
    "best_month.groupby(by=['hotel', 'arrival_date_month', 'arrival_date_year']).agg(month_cancel=('is_canceled', 'count')).sort_values(by='month_cancel', ascending=False)"
   ]
  },
  {
   "cell_type": "code",
   "execution_count": 30,
   "id": "ea11ce32",
   "metadata": {},
   "outputs": [],
   "source": [
    "result_month = best_month.groupby(by=['hotel', 'arrival_date_month', 'arrival_date_year']).agg(month_cancel=('is_canceled', 'count'))\n",
    "result_month = result_month.reset_index()"
   ]
  },
  {
   "cell_type": "code",
   "execution_count": 31,
   "id": "f65ee5b9",
   "metadata": {
    "collapsed": true,
    "jupyter": {
     "outputs_hidden": true
    },
    "tags": []
   },
   "outputs": [
    {
     "data": {
      "text/plain": [
       "hotel         arrival_date_month  arrival_date_year  month_cancel\n",
       "City Hotel    April               2016               2022            1\n",
       "                                  2017               1993            1\n",
       "Resort Hotel  August              2015               1043            1\n",
       "                                  2016               1107            1\n",
       "                                  2017               1107            1\n",
       "              December            2015               961             1\n",
       "                                  2016               1056            1\n",
       "              February            2016               1113            1\n",
       "                                  2017               1195            1\n",
       "              January             2016               765             1\n",
       "                                  2017               1103            1\n",
       "              July                2015               1058            1\n",
       "                                  2016               985             1\n",
       "                                  2017               1094            1\n",
       "              June                2016               993             1\n",
       "                                  2017               1045            1\n",
       "              March               2016               1409            1\n",
       "                                  2017               1164            1\n",
       "              May                 2016               1323            1\n",
       "                                  2017               1212            1\n",
       "              November            2015               920             1\n",
       "                                  2016               1056            1\n",
       "              October             2015               1160            1\n",
       "                                  2016               1417            1\n",
       "              September           2015               1034            1\n",
       "              April               2017               1205            1\n",
       "                                  2016               1345            1\n",
       "City Hotel    September           2016               2304            1\n",
       "              July                2016               2088            1\n",
       "              August              2015               1248            1\n",
       "                                  2016               2131            1\n",
       "                                  2017               2002            1\n",
       "              December            2015               986             1\n",
       "                                  2016               1406            1\n",
       "              February            2016               1441            1\n",
       "                                  2017               1623            1\n",
       "              January             2016               926             1\n",
       "                                  2017               1328            1\n",
       "              July                2015               459             1\n",
       "                                  2017               2235            1\n",
       "              September           2015               1986            1\n",
       "              June                2016               2203            1\n",
       "                                  2017               2163            1\n",
       "              March               2016               1938            1\n",
       "                                  2017               2134            1\n",
       "              May                 2016               2240            1\n",
       "                                  2017               2339            1\n",
       "              November            2015               934             1\n",
       "                                  2016               1762            1\n",
       "              October             2015               2065            1\n",
       "                                  2016               2272            1\n",
       "Resort Hotel  September           2016               1068            1\n",
       "dtype: int64"
      ]
     },
     "execution_count": 31,
     "metadata": {},
     "output_type": "execute_result"
    }
   ],
   "source": [
    "result_month.value_counts()"
   ]
  },
  {
   "cell_type": "code",
   "execution_count": 32,
   "id": "d631e5fa",
   "metadata": {
    "tags": []
   },
   "outputs": [
    {
     "data": {
      "text/plain": [
       "<matplotlib.legend.Legend at 0x1dd886ab8e0>"
      ]
     },
     "execution_count": 32,
     "metadata": {},
     "output_type": "execute_result"
    },
    {
     "data": {
      "image/png": "[encoded data removed]",
      "text/plain": [
       "<Figure size 504x360 with 1 Axes>"
      ]
     },
     "metadata": {
      "needs_background": "light"
     },
     "output_type": "display_data"
    }
   ],
   "source": [
    "f, ax = plt.subplots(figsize= (7, 5))\n",
    "sns.despine(f)\n",
    "sns.barplot(x='hotel',\n",
    "            y='month_cancel',\n",
    "           hue='arrival_date_month',\n",
    "           data=result_month)\n",
    "plt.legend(bbox_to_anchor=(1.02, 1), loc='upper left', borderaxespad=0)"
   ]
  },
  {
   "cell_type": "code",
   "execution_count": 33,
   "id": "10ebf775",
   "metadata": {},
   "outputs": [],
   "source": [
    "best_date = df[['hotel','reservation_status','reservation_status_date']]"
   ]
  },
  {
   "cell_type": "code",
   "execution_count": 34,
   "id": "f10241dd",
   "metadata": {
    "collapsed": true,
    "jupyter": {
     "outputs_hidden": true
    },
    "tags": []
   },
   "outputs": [
    {
     "data": {
      "text/html": [
       "<div>\n",
       "<style scoped>\n",
       "    .dataframe tbody tr th:only-of-type {\n",
       "        vertical-align: middle;\n",
       "    }\n",
       "\n",
       "    .dataframe tbody tr th {\n",
       "        vertical-align: top;\n",
       "    }\n",
       "\n",
       "    .dataframe thead th {\n",
       "        text-align: right;\n",
       "    }\n",
       "</style>\n",
       "<table border=\"1\" class=\"dataframe\">\n",
       "  <thead>\n",
       "    <tr style=\"text-align: right;\">\n",
       "      <th></th>\n",
       "      <th>hotel</th>\n",
       "      <th>reservation_status</th>\n",
       "      <th>reservation_status_date</th>\n",
       "    </tr>\n",
       "  </thead>\n",
       "  <tbody>\n",
       "    <tr>\n",
       "      <th>0</th>\n",
       "      <td>Resort Hotel</td>\n",
       "      <td>Check-Out</td>\n",
       "      <td>2015-07-01</td>\n",
       "    </tr>\n",
       "    <tr>\n",
       "      <th>1</th>\n",
       "      <td>Resort Hotel</td>\n",
       "      <td>Check-Out</td>\n",
       "      <td>2015-07-01</td>\n",
       "    </tr>\n",
       "    <tr>\n",
       "      <th>2</th>\n",
       "      <td>Resort Hotel</td>\n",
       "      <td>Check-Out</td>\n",
       "      <td>2015-07-02</td>\n",
       "    </tr>\n",
       "    <tr>\n",
       "      <th>3</th>\n",
       "      <td>Resort Hotel</td>\n",
       "      <td>Check-Out</td>\n",
       "      <td>2015-07-02</td>\n",
       "    </tr>\n",
       "    <tr>\n",
       "      <th>4</th>\n",
       "      <td>Resort Hotel</td>\n",
       "      <td>Check-Out</td>\n",
       "      <td>2015-07-03</td>\n",
       "    </tr>\n",
       "  </tbody>\n",
       "</table>\n",
       "</div>"
      ],
      "text/plain": [
       "          hotel reservation_status reservation_status_date\n",
       "0  Resort Hotel          Check-Out              2015-07-01\n",
       "1  Resort Hotel          Check-Out              2015-07-01\n",
       "2  Resort Hotel          Check-Out              2015-07-02\n",
       "3  Resort Hotel          Check-Out              2015-07-02\n",
       "4  Resort Hotel          Check-Out              2015-07-03"
      ]
     },
     "execution_count": 34,
     "metadata": {},
     "output_type": "execute_result"
    }
   ],
   "source": [
    "best_date.head()"
   ]
  },
  {
   "cell_type": "code",
   "execution_count": 35,
   "id": "57e3f093",
   "metadata": {},
   "outputs": [],
   "source": [
    "best_date = best_date[best_date['reservation_status']=='Check-Out']"
   ]
  },
  {
   "cell_type": "code",
   "execution_count": 36,
   "id": "64dc1d40",
   "metadata": {},
   "outputs": [],
   "source": [
    "result_date = best_date.groupby(by=['hotel','reservation_status_date']).agg(date_cancel=('reservation_status', 'count'))\n",
    "result_date = result_date.reset_index()"
   ]
  },
  {
   "cell_type": "code",
   "execution_count": 37,
   "id": "1fac4da8",
   "metadata": {
    "tags": []
   },
   "outputs": [
    {
     "data": {
      "image/png": "[encoded data removed]",
      "text/plain": [
       "<Figure size 504x360 with 1 Axes>"
      ]
     },
     "metadata": {
      "needs_background": "light"
     },
     "output_type": "display_data"
    }
   ],
   "source": [
    "f, ax = plt.subplots(figsize= (7, 5))\n",
    "sns.despine(f)\n",
    "sns.barplot(x='hotel',\n",
    "            y='date_cancel',\n",
    "           hue='reservation_status_date',\n",
    "           data=result_date)\n",
    "plt.legend([],[], frameon=False)\n",
    "plt.show()"
   ]
  }
 ],
 "metadata": {
  "kernelspec": {
   "display_name": "Python 3 (ipykernel)",
   "language": "python",
   "name": "python3"
  },
  "language_info": {
   "codemirror_mode": {
    "name": "ipython",
    "version": 3
   },
   "file_extension": ".py",
   "mimetype": "text/x-python",
   "name": "python",
   "nbconvert_exporter": "python",
   "pygments_lexer": "ipython3",
   "version": "3.9.12"
  }
 },
 "nbformat": 4,
 "nbformat_minor": 5
}
